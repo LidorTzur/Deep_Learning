{
 "cells": [
  {
   "cell_type": "code",
   "execution_count": 1,
   "metadata": {},
   "outputs": [],
   "source": [
    "import json"
   ]
  },
  {
   "cell_type": "code",
   "execution_count": 2,
   "metadata": {},
   "outputs": [],
   "source": [
    "with open(\"errors_analyzed.json\", 'r') as file:\n",
    "    errors_analyzed = json.load(file)\n",
    "\n",
    "with open(\"human_annotation.json\", 'r') as file:\n",
    "    human_annotation = json.load(file)\n",
    "\n",
    "for idx, sentiment in enumerate(reversed(human_annotation)):\n",
    "    if sentiment==\"negative\":\n",
    "        errors_analyzed[idx][\"human_annotation\"]=0\n",
    "    elif sentiment==\"positive\":\n",
    "        errors_analyzed[idx][\"human_annotation\"]=1\n",
    "    elif sentiment==\"mixed/neutral\":\n",
    "        errors_analyzed[idx][\"human_annotation\"]=2\n",
    "    else:\n",
    "        raise\n",
    "    \n",
    "with open(\"errors_analyzed.json\", 'w') as file:\n",
    "    json.dump(errors_analyzed, file, indent=3)"
   ]
  },
  {
   "cell_type": "code",
   "execution_count": 3,
   "metadata": {},
   "outputs": [],
   "source": [
    "with open(\"errors_combined_sample.json\", 'r') as file:\n",
    "    errors_combined = [x[\"txt\"] for x in json.load(file)]\n"
   ]
  },
  {
   "cell_type": "code",
   "execution_count": 4,
   "metadata": {},
   "outputs": [],
   "source": [
    "with open(\"errors_LlamBERT_sample.json\", 'r') as file:\n",
    "    errors_LlamBERT = [x[\"txt\"] for x in json.load(file)]"
   ]
  },
  {
   "cell_type": "code",
   "execution_count": 5,
   "metadata": {},
   "outputs": [
    {
     "data": {
      "text/plain": [
       "{'model_pos': {'pos': 25, 'neg': 17, 'mixed': 13},\n",
       " 'model_neg': {'pos': 15, 'neg': 14, 'mixed': 16}}"
      ]
     },
     "execution_count": 5,
     "metadata": {},
     "output_type": "execute_result"
    }
   ],
   "source": [
    "results_combined={\n",
    "    \"model_pos\": {\"pos\":0,\"neg\":0,\"mixed\":0},\n",
    "    \"model_neg\": {\"pos\":0,\"neg\":0,\"mixed\":0}\n",
    "}\n",
    "for err in errors_analyzed[:100]:\n",
    "    if err[\"txt\"] in errors_combined:\n",
    "        if err[\"predicted_label\"]==0:\n",
    "            if err[\"human_annotation\"]==0:\n",
    "                results_combined[\"model_neg\"][\"neg\"]+=1\n",
    "            elif err[\"human_annotation\"]==1:\n",
    "                results_combined[\"model_neg\"][\"pos\"]+=1\n",
    "            elif err[\"human_annotation\"]==2:\n",
    "                results_combined[\"model_neg\"][\"mixed\"]+=1\n",
    "        elif err[\"predicted_label\"]==1:\n",
    "            if err[\"human_annotation\"]==0:\n",
    "                results_combined[\"model_pos\"][\"neg\"]+=1\n",
    "            elif err[\"human_annotation\"]==1:\n",
    "                results_combined[\"model_pos\"][\"pos\"]+=1\n",
    "            elif err[\"human_annotation\"]==2:\n",
    "                results_combined[\"model_pos\"][\"mixed\"]+=1\n",
    "\n",
    "results_combined"
   ]
  },
  {
   "cell_type": "code",
   "execution_count": 7,
   "metadata": {},
   "outputs": [
    {
     "data": {
      "text/plain": [
       "{'model_pos': {'pos': 31, 'neg': 16, 'mixed': 13},\n",
       " 'model_neg': {'pos': 17, 'neg': 14, 'mixed': 9}}"
      ]
     },
     "execution_count": 7,
     "metadata": {},
     "output_type": "execute_result"
    }
   ],
   "source": [
    "results_LlamBERT={\n",
    "    \"model_pos\": {\"pos\":0,\"neg\":0,\"mixed\":0},\n",
    "    \"model_neg\": {\"pos\":0,\"neg\":0,\"mixed\":0}\n",
    "}\n",
    "for err in errors_analyzed:\n",
    "    if err[\"txt\"] in errors_LlamBERT:\n",
    "        if err[\"predicted_label\"]==0:\n",
    "            if err[\"human_annotation\"]==0:\n",
    "                results_LlamBERT[\"model_neg\"][\"neg\"]+=1\n",
    "            elif err[\"human_annotation\"]==1:\n",
    "                results_LlamBERT[\"model_neg\"][\"pos\"]+=1\n",
    "            elif err[\"human_annotation\"]==2:\n",
    "                results_LlamBERT[\"model_neg\"][\"mixed\"]+=1\n",
    "        elif err[\"predicted_label\"]==1:\n",
    "            if err[\"human_annotation\"]==0:\n",
    "                results_LlamBERT[\"model_pos\"][\"neg\"]+=1\n",
    "            elif err[\"human_annotation\"]==1:\n",
    "                results_LlamBERT[\"model_pos\"][\"pos\"]+=1\n",
    "            elif err[\"human_annotation\"]==2:\n",
    "                results_LlamBERT[\"model_pos\"][\"mixed\"]+=1\n",
    "\n",
    "results_LlamBERT"
   ]
  }
 ],
 "metadata": {
  "kernelspec": {
   "display_name": "brain",
   "language": "python",
   "name": "python3"
  },
  "language_info": {
   "codemirror_mode": {
    "name": "ipython",
    "version": 3
   },
   "file_extension": ".py",
   "mimetype": "text/x-python",
   "name": "python",
   "nbconvert_exporter": "python",
   "pygments_lexer": "ipython3",
   "version": "3.8.18"
  }
 },
 "nbformat": 4,
 "nbformat_minor": 2
}
