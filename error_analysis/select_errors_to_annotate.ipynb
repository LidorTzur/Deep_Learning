{
 "cells": [
  {
   "cell_type": "code",
   "execution_count": 8,
   "metadata": {},
   "outputs": [],
   "source": [
    "import json\n",
    "import random\n",
    "random.seed(42)"
   ]
  },
  {
   "cell_type": "code",
   "execution_count": 9,
   "metadata": {},
   "outputs": [
    {
     "data": {
      "text/plain": [
       "833"
      ]
     },
     "execution_count": 9,
     "metadata": {},
     "output_type": "execute_result"
    }
   ],
   "source": [
    "with open(\"errors_combined.txt\") as f:\n",
    "    lines = f.readlines()\n",
    "    errors_combined=[]\n",
    "    for line in lines:\n",
    "        errors_combined.append({\n",
    "            \"txt\": line.split(\"|\")[0].strip(),\n",
    "            \"gold_label\": int(line.split(\"|\")[1].split(\",\")[0][-1]),\n",
    "            \"predicted_label\": int(line.split(\"|\")[1].split(\",\")[1][12])\n",
    "        })\n",
    "len(errors_combined)"
   ]
  },
  {
   "cell_type": "code",
   "execution_count": 10,
   "metadata": {},
   "outputs": [
    {
     "data": {
      "text/plain": [
       "1293"
      ]
     },
     "execution_count": 10,
     "metadata": {},
     "output_type": "execute_result"
    }
   ],
   "source": [
    "with open(\"errors_LlamBERT.txt\") as f:\n",
    "    lines = f.readlines()\n",
    "    errors_LlamBERT=[]\n",
    "    for line in lines:\n",
    "        errors_LlamBERT.append({\n",
    "            \"txt\": line.split(\"|\")[0].strip(),\n",
    "            \"gold_label\": int(line.split(\"|\")[1].split(\",\")[0][-1]),\n",
    "            \"predicted_label\": int(line.split(\"|\")[1].split(\",\")[1][12])\n",
    "        })\n",
    "len(errors_LlamBERT)"
   ]
  },
  {
   "cell_type": "code",
   "execution_count": 11,
   "metadata": {},
   "outputs": [],
   "source": [
    "random.shuffle(errors_combined)\n",
    "errors_combined_sample = errors_combined[:100]\n",
    "with open(\"errors_combined_sample.json\", 'w') as outfile:\n",
    "    json.dump(errors_combined_sample, outfile, indent=3)\n",
    "\n"
   ]
  },
  {
   "cell_type": "code",
   "execution_count": 12,
   "metadata": {},
   "outputs": [
    {
     "name": "stdout",
     "output_type": "stream",
     "text": [
      "73\n"
     ]
    }
   ],
   "source": [
    "errors_LlamBERT_sample=[]\n",
    "errors_LlamBERT_remaining=[]\n",
    "for err_c in errors_combined_sample:\n",
    "    for err_L in errors_LlamBERT:\n",
    "        if err_c==err_L:\n",
    "            errors_LlamBERT_sample.append(err_L)\n",
    "            break\n",
    "        errors_LlamBERT_remaining.append(err_L)\n",
    "random.shuffle(errors_LlamBERT_remaining)\n",
    "errors_LlamBERT_remaining = errors_LlamBERT_remaining[:100-len(errors_LlamBERT_sample)]\n",
    "print(len(errors_LlamBERT_sample))\n",
    "errors_LlamBERT_sample += errors_LlamBERT_remaining\n",
    "\n",
    "with open(\"errors_LlamBERT_sample.json\", 'w') as outfile:\n",
    "    json.dump(errors_LlamBERT_sample, outfile, indent=3)\n"
   ]
  },
  {
   "cell_type": "code",
   "execution_count": 13,
   "metadata": {},
   "outputs": [],
   "source": [
    "\n",
    "with open(\"errors_LlamBERT_sample.json\", 'w') as outfile:\n",
    "    json.dump(errors_LlamBERT_sample, outfile, indent=3)"
   ]
  },
  {
   "cell_type": "code",
   "execution_count": 14,
   "metadata": {},
   "outputs": [],
   "source": [
    "errors_to_analyze = errors_combined_sample + errors_LlamBERT_remaining\n",
    "with open(\"errors_to_analyze.json\", 'w') as outfile:\n",
    "    json.dump(errors_to_analyze, outfile, indent=3)\n",
    "\n",
    "with open('errors_to_analyze.txt', 'w') as f:\n",
    "    f.write('\\n'.join([err[\"txt\"] for err in errors_to_analyze]))"
   ]
  },
  {
   "cell_type": "code",
   "execution_count": null,
   "metadata": {},
   "outputs": [],
   "source": []
  }
 ],
 "metadata": {
  "kernelspec": {
   "display_name": "brain",
   "language": "python",
   "name": "python3"
  },
  "language_info": {
   "codemirror_mode": {
    "name": "ipython",
    "version": 3
   },
   "file_extension": ".py",
   "mimetype": "text/x-python",
   "name": "python",
   "nbconvert_exporter": "python",
   "pygments_lexer": "ipython3",
   "version": "3.8.18"
  }
 },
 "nbformat": 4,
 "nbformat_minor": 2
}
